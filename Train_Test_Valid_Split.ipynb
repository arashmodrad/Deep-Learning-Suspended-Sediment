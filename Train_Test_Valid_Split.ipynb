{
 "cells": [
  {
   "cell_type": "code",
   "execution_count": 2,
   "id": "d8961234",
   "metadata": {},
   "outputs": [],
   "source": [
    "import os\n",
    "import shutil\n",
    "import json\n",
    "from os import listdir\n",
    "import cv2\n",
    "import os, glob"
   ]
  },
  {
   "cell_type": "code",
   "execution_count": 19,
   "id": "c994454a",
   "metadata": {},
   "outputs": [],
   "source": [
    "# gets the current working dir\n",
    "src_dir = os.getcwd() \n",
    "folderPath = os.path.join(src_dir, 'ModelDatabase') \n",
    "\n",
    "#print(folderPath)\n",
    "valid_list = []\n",
    "test_list = []\n",
    "for filename in listdir(folderPath):\n",
    "    if 'Forward_2' in filename  or 'Forward_5' in filename  or 'Forward_9' in filename or \\\n",
    "    'Forward_13' in filename or \\\n",
    "    'Reverse_2' in filename or 'Reverse_5' in filename or 'Reverse_9' in filename or \\\n",
    "    'Reverse_13' in filename:\n",
    "        try:\n",
    "            valid_list.append(filename)\n",
    "        except (IOError, SyntaxError) as e:\n",
    "            print('Bad train file:', filename) \n",
    "            \n",
    "for filename in listdir(folderPath):\n",
    "    if 'Forward_4' in filename  or 'Forward_7' in filename  or 'Forward_15' in filename or \\\n",
    "    'Reverse_4' in filename or 'Reverse_7' in filename or 'Reverse_15' in filename:\n",
    "        try:\n",
    "            test_list.append(filename)\n",
    "        except (IOError, SyntaxError) as e:\n",
    "            print('Bad train file:', filename) "
   ]
  },
  {
   "cell_type": "code",
   "execution_count": 21,
   "id": "d50d6bb1",
   "metadata": {},
   "outputs": [
    {
     "ename": "AttributeError",
     "evalue": "'NoneType' object has no attribute 'remove'",
     "output_type": "error",
     "traceback": [
      "\u001b[1;31m---------------------------------------------------------------------------\u001b[0m",
      "\u001b[1;31mAttributeError\u001b[0m                            Traceback (most recent call last)",
      "\u001b[1;32m<ipython-input-21-1dbc15328acf>\u001b[0m in \u001b[0;36m<module>\u001b[1;34m\u001b[0m\n\u001b[0;32m     16\u001b[0m \u001b[0mtrain_list\u001b[0m \u001b[1;33m=\u001b[0m \u001b[0mos\u001b[0m\u001b[1;33m.\u001b[0m\u001b[0mlistdir\u001b[0m\u001b[1;33m(\u001b[0m\u001b[0mfolderPath\u001b[0m\u001b[1;33m)\u001b[0m\u001b[1;33m\u001b[0m\u001b[1;33m\u001b[0m\u001b[0m\n\u001b[0;32m     17\u001b[0m \u001b[0mtrain_list\u001b[0m \u001b[1;33m=\u001b[0m \u001b[0mtrain_list\u001b[0m\u001b[1;33m.\u001b[0m\u001b[0mremove\u001b[0m\u001b[1;33m(\u001b[0m\u001b[1;34m'Valid'\u001b[0m\u001b[1;33m)\u001b[0m\u001b[1;33m\u001b[0m\u001b[1;33m\u001b[0m\u001b[0m\n\u001b[1;32m---> 18\u001b[1;33m \u001b[0mtrain_list\u001b[0m \u001b[1;33m=\u001b[0m \u001b[0mtrain_list\u001b[0m\u001b[1;33m.\u001b[0m\u001b[0mremove\u001b[0m\u001b[1;33m(\u001b[0m\u001b[1;34m'Train'\u001b[0m\u001b[1;33m)\u001b[0m\u001b[1;33m\u001b[0m\u001b[1;33m\u001b[0m\u001b[0m\n\u001b[0m\u001b[0;32m     19\u001b[0m \u001b[0mtrain_list\u001b[0m \u001b[1;33m=\u001b[0m \u001b[0mtrain_list\u001b[0m\u001b[1;33m.\u001b[0m\u001b[0mremove\u001b[0m\u001b[1;33m(\u001b[0m\u001b[1;34m'Test'\u001b[0m\u001b[1;33m)\u001b[0m\u001b[1;33m\u001b[0m\u001b[1;33m\u001b[0m\u001b[0m\n\u001b[0;32m     20\u001b[0m \u001b[1;32mfor\u001b[0m \u001b[0mfilename\u001b[0m \u001b[1;32min\u001b[0m \u001b[0mtrain_list\u001b[0m\u001b[1;33m:\u001b[0m\u001b[1;33m\u001b[0m\u001b[1;33m\u001b[0m\u001b[0m\n",
      "\u001b[1;31mAttributeError\u001b[0m: 'NoneType' object has no attribute 'remove'"
     ]
    }
   ],
   "source": [
    "ValidPath = os.path.join(folderPath, 'Valid') \n",
    "TestPath = os.path.join(folderPath, 'Test') \n",
    "TrainPath = os.path.join(folderPath, 'Train') \n",
    "train_list = []\n",
    "\n",
    "for filename in valid_list:\n",
    "    Old_ImagePath = os.path.join(folderPath, filename) \n",
    "    New_ImagePath = os.path.join(ValidPath, filename) \n",
    "    shutil.move(Old_ImagePath, New_ImagePath)\n",
    "    \n",
    "for filename in test_list:\n",
    "    Old_ImagePath = os.path.join(folderPath, filename) \n",
    "    New_ImagePath = os.path.join(TestPath, filename) \n",
    "    shutil.move(Old_ImagePath, New_ImagePath)\n",
    "    \n",
    "train_list = os.listdir(folderPath)\n",
    "train_list.remove('Valid')\n",
    "train_list.remove('Train')\n",
    "train_list.remove('Test')\n",
    "\n",
    "for filename in train_list:\n",
    "    Old_ImagePath = os.path.join(folderPath, filename) \n",
    "    New_ImagePath = os.path.join(TrainPath, filename) \n",
    "    shutil.move(Old_ImagePath, New_ImagePath)"
   ]
  },
  {
   "cell_type": "code",
   "execution_count": null,
   "id": "30a7eb08",
   "metadata": {},
   "outputs": [],
   "source": []
  }
 ],
 "metadata": {
  "kernelspec": {
   "display_name": "Python 3",
   "language": "python",
   "name": "python3"
  },
  "language_info": {
   "codemirror_mode": {
    "name": "ipython",
    "version": 3
   },
   "file_extension": ".py",
   "mimetype": "text/x-python",
   "name": "python",
   "nbconvert_exporter": "python",
   "pygments_lexer": "ipython3",
   "version": "3.7.10"
  }
 },
 "nbformat": 4,
 "nbformat_minor": 5
}
